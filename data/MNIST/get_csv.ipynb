{
 "cells": [
  {
   "cell_type": "code",
   "execution_count": 2,
   "metadata": {},
   "outputs": [],
   "source": [
    "import os\n",
    "import csv\n",
    "\n",
    "def list_images_in_folder(folder_path):\n",
    "    images = []\n",
    "    for root, _, files in os.walk(folder_path):\n",
    "        for file in files:\n",
    "            if file.endswith('.png'):  # 假设图片格式为png\n",
    "                images.append(os.path.join(root, file))\n",
    "    return images\n",
    "\n",
    "def write_to_csv(images, csv_file_path):\n",
    "    with open(csv_file_path, mode='w', newline='') as file:\n",
    "        writer = csv.writer(file)\n",
    "        writer.writerow(['class', 'path'])  # 写入表头\n",
    "        for image_path in images:\n",
    "            class_label = os.path.basename(os.path.dirname(image_path))  # 假设文件夹名是类别标签\n",
    "            writer.writerow([class_label, image_path])\n",
    "\n",
    "def main():\n",
    "    train_folder = '/root/ZYM/zym/AI_S/torch_classification/data/MNIST/train'\n",
    "    test_folder = '/root/ZYM/zym/AI_S/torch_classification/data/MNIST/test'\n",
    "    \n",
    "    train_images = list_images_in_folder(train_folder)\n",
    "    test_images = list_images_in_folder(test_folder)\n",
    "    \n",
    "    write_to_csv(train_images, 'train_mnist_custom.csv')\n",
    "    write_to_csv(test_images, 'test_mnist_custom.csv')\n",
    "\n",
    "main()\n",
    "    "
   ]
  },
  {
   "cell_type": "code",
   "execution_count": 1,
   "metadata": {},
   "outputs": [],
   "source": [
    "import pandas as pd\n",
    "\n",
    "# 读取CSV文件\n",
    "file_path = '/root/ZYM/zym/AI_S/torch_classification/data/MNIST/train_mnist_custom.csv'\n",
    "df = pd.read_csv(file_path)\n",
    "\n",
    "# 修改类别\n",
    "df.loc[df['path'].str.contains('trigger'), 'class'] = 0\n",
    "\n",
    "# 保存修改后的CSV文件\n",
    "df.to_csv(file_path, index=False)"
   ]
  }
 ],
 "metadata": {
  "kernelspec": {
   "display_name": "zym38",
   "language": "python",
   "name": "python3"
  },
  "language_info": {
   "codemirror_mode": {
    "name": "ipython",
    "version": 3
   },
   "file_extension": ".py",
   "mimetype": "text/x-python",
   "name": "python",
   "nbconvert_exporter": "python",
   "pygments_lexer": "ipython3",
   "version": "3.8.18"
  }
 },
 "nbformat": 4,
 "nbformat_minor": 2
}
