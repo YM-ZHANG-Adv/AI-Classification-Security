{
 "cells": [
  {
   "cell_type": "markdown",
   "metadata": {},
   "source": [
    "导入必要的库并自定义一个简单模型"
   ]
  },
  {
   "cell_type": "code",
   "execution_count": 1,
   "metadata": {},
   "outputs": [],
   "source": [
    "import torch\n",
    "import torch.nn as nn\n",
    "import torch.optim as optim\n",
    "import torchvision.transforms as transforms\n",
    "from torchvision.datasets import MNIST\n",
    "from torch.utils.data import DataLoader\n",
    "import matplotlib.pyplot as plt\n",
    "\n",
    "class SimpleModel(nn.Module):\n",
    "    def __init__(self):\n",
    "        super(SimpleModel, self).__init__()\n",
    "        self.fc = nn.Linear(28*28, 10)\n",
    "\n",
    "    def forward(self, x):\n",
    "        x = x.view(-1, 28*28)\n",
    "        return self.fc(x)"
   ]
  },
  {
   "cell_type": "markdown",
   "metadata": {},
   "source": [
    "加载 MNIST 数据集"
   ]
  },
  {
   "cell_type": "code",
   "execution_count": 2,
   "metadata": {},
   "outputs": [
    {
     "name": "stdout",
     "output_type": "stream",
     "text": [
      "Downloading http://yann.lecun.com/exdb/mnist/train-images-idx3-ubyte.gz\n",
      "Failed to download (trying next):\n",
      "HTTP Error 403: Forbidden\n",
      "\n",
      "Downloading https://ossci-datasets.s3.amazonaws.com/mnist/train-images-idx3-ubyte.gz\n",
      "Downloading https://ossci-datasets.s3.amazonaws.com/mnist/train-images-idx3-ubyte.gz to ./data/MNIST/raw/train-images-idx3-ubyte.gz\n"
     ]
    },
    {
     "name": "stderr",
     "output_type": "stream",
     "text": [
      "100%|██████████| 9912422/9912422 [00:02<00:00, 3991775.91it/s]\n"
     ]
    },
    {
     "name": "stdout",
     "output_type": "stream",
     "text": [
      "Extracting ./data/MNIST/raw/train-images-idx3-ubyte.gz to ./data/MNIST/raw\n",
      "\n",
      "Downloading http://yann.lecun.com/exdb/mnist/train-labels-idx1-ubyte.gz\n",
      "Failed to download (trying next):\n",
      "HTTP Error 403: Forbidden\n",
      "\n",
      "Downloading https://ossci-datasets.s3.amazonaws.com/mnist/train-labels-idx1-ubyte.gz\n",
      "Downloading https://ossci-datasets.s3.amazonaws.com/mnist/train-labels-idx1-ubyte.gz to ./data/MNIST/raw/train-labels-idx1-ubyte.gz\n"
     ]
    },
    {
     "name": "stderr",
     "output_type": "stream",
     "text": [
      "100%|██████████| 28881/28881 [00:00<00:00, 112059.44it/s]\n"
     ]
    },
    {
     "name": "stdout",
     "output_type": "stream",
     "text": [
      "Extracting ./data/MNIST/raw/train-labels-idx1-ubyte.gz to ./data/MNIST/raw\n",
      "\n",
      "Downloading http://yann.lecun.com/exdb/mnist/t10k-images-idx3-ubyte.gz\n",
      "Failed to download (trying next):\n",
      "HTTP Error 403: Forbidden\n",
      "\n",
      "Downloading https://ossci-datasets.s3.amazonaws.com/mnist/t10k-images-idx3-ubyte.gz\n",
      "Downloading https://ossci-datasets.s3.amazonaws.com/mnist/t10k-images-idx3-ubyte.gz to ./data/MNIST/raw/t10k-images-idx3-ubyte.gz\n"
     ]
    },
    {
     "name": "stderr",
     "output_type": "stream",
     "text": [
      "100%|██████████| 1648877/1648877 [00:01<00:00, 1107073.13it/s]\n"
     ]
    },
    {
     "name": "stdout",
     "output_type": "stream",
     "text": [
      "Extracting ./data/MNIST/raw/t10k-images-idx3-ubyte.gz to ./data/MNIST/raw\n",
      "\n",
      "Downloading http://yann.lecun.com/exdb/mnist/t10k-labels-idx1-ubyte.gz\n",
      "Failed to download (trying next):\n",
      "HTTP Error 403: Forbidden\n",
      "\n",
      "Downloading https://ossci-datasets.s3.amazonaws.com/mnist/t10k-labels-idx1-ubyte.gz\n",
      "Downloading https://ossci-datasets.s3.amazonaws.com/mnist/t10k-labels-idx1-ubyte.gz to ./data/MNIST/raw/t10k-labels-idx1-ubyte.gz\n"
     ]
    },
    {
     "name": "stderr",
     "output_type": "stream",
     "text": [
      "100%|██████████| 4542/4542 [00:00<00:00, 1078311.47it/s]"
     ]
    },
    {
     "name": "stdout",
     "output_type": "stream",
     "text": [
      "Extracting ./data/MNIST/raw/t10k-labels-idx1-ubyte.gz to ./data/MNIST/raw\n",
      "\n"
     ]
    },
    {
     "name": "stderr",
     "output_type": "stream",
     "text": [
      "\n"
     ]
    }
   ],
   "source": [
    "transform = transforms.Compose([transforms.ToTensor()])\n",
    "train_dataset = MNIST(root='./data', train=True, download=True, transform=transform)\n",
    "train_loader = DataLoader(train_dataset, batch_size=1, shuffle=True)"
   ]
  },
  {
   "cell_type": "markdown",
   "metadata": {},
   "source": [
    "定义 DLG 攻击函数并执行攻击"
   ]
  },
  {
   "cell_type": "code",
   "execution_count": 4,
   "metadata": {},
   "outputs": [
    {
     "data": {
      "image/png": "[encoded data removed]",
      "text/plain": [
       "<Figure size 1000x500 with 2 Axes>"
      ]
     },
     "metadata": {},
     "output_type": "display_data"
    }
   ],
   "source": [
    "def dlg_attack(model, original_grad, target_label, lr=0.1, iterations=1000):\n",
    "    # 初始化随机数据\n",
    "    dummy_data = torch.randn(1, 1, 28, 28, requires_grad=True)\n",
    "    dummy_label = torch.tensor([target_label], dtype=torch.long)\n",
    "\n",
    "    optimizer = optim.LBFGS([dummy_data], lr=lr)\n",
    "\n",
    "    for i in range(iterations):\n",
    "        def closure():\n",
    "            optimizer.zero_grad()\n",
    "            dummy_output = model(dummy_data)\n",
    "            dummy_loss = nn.CrossEntropyLoss()(dummy_output, dummy_label)\n",
    "            dummy_grad = torch.autograd.grad(dummy_loss, model.parameters(), create_graph=True)\n",
    "            \n",
    "            grad_diff = sum(((dummy_grad[i] - original_grad[i]) ** 2).sum() for i in range(len(original_grad)))\n",
    "            grad_diff.backward()\n",
    "            return grad_diff\n",
    "\n",
    "        optimizer.step(closure)\n",
    "\n",
    "    return dummy_data\n",
    "\n",
    "# 初始化模型\n",
    "model = SimpleModel()\n",
    "data, target = next(iter(train_loader))\n",
    "# 计算原始梯度\n",
    "output = model(data)\n",
    "loss = nn.CrossEntropyLoss()(output, target)\n",
    "original_grad = torch.autograd.grad(loss, model.parameters())\n",
    "\n",
    "# 执行 DLG 攻击\n",
    "reconstructed_data = dlg_attack(model, original_grad, target.item())\n",
    "\n",
    "# 显示原始数据和重建数据\n",
    "plt.figure(figsize=(10, 5))\n",
    "plt.subplot(1, 2, 1)\n",
    "plt.title(\"Original Data\")\n",
    "plt.imshow(data[0].squeeze(), cmap='gray')\n",
    "\n",
    "plt.subplot(1, 2, 2)\n",
    "plt.title(\"Reconstructed Data\")\n",
    "plt.imshow(reconstructed_data.detach().numpy().squeeze(), cmap='gray')\n",
    "\n",
    "plt.show()"
   ]
  },
  {
   "cell_type": "markdown",
   "metadata": {},
   "source": [
    "可以看到原始数据和通过 DLG 重建的数据。尽管重建的数据可能与原始数据不完全一致，但可以看出 DLG 能够在一定程度上恢复原始数据。"
   ]
  },
  {
   "cell_type": "markdown",
   "metadata": {},
   "source": [
    "### DLG对应的信息正则化防御"
   ]
  },
  {
   "cell_type": "code",
   "execution_count": 5,
   "metadata": {},
   "outputs": [],
   "source": [
    "import torch\n",
    "import torch.nn as nn\n",
    "import torch.optim as optim\n",
    "import torchvision.transforms as transforms\n",
    "from torchvision.datasets import MNIST\n",
    "from torch.utils.data import DataLoader\n",
    "import matplotlib.pyplot as plt\n",
    "\n",
    "#定义互信息正则化项\n",
    "def mutual_information_regularization(model, data, target):\n",
    "    output = model(data)\n",
    "    # 使用交叉熵作为互信息的近似\n",
    "    loss = nn.CrossEntropyLoss()(output, target)\n",
    "    return loss"
   ]
  },
  {
   "cell_type": "code",
   "execution_count": 6,
   "metadata": {},
   "outputs": [],
   "source": [
    "#定义防御训练函数\n",
    "def train_with_defense(model, train_loader, defense_lambda=0.1, epochs=5):\n",
    "    optimizer = optim.SGD(model.parameters(), lr=0.01)\n",
    "    criterion = nn.CrossEntropyLoss()\n",
    "\n",
    "    for epoch in range(epochs):\n",
    "        for data, target in train_loader:\n",
    "            optimizer.zero_grad()\n",
    "            output = model(data)\n",
    "            # 原始损失\n",
    "            loss = criterion(output, target)\n",
    "            # 互信息正则化项\n",
    "            mi_loss = mutual_information_regularization(model, data, target)\n",
    "            # 总损失\n",
    "            total_loss = loss + defense_lambda * mi_loss\n",
    "            total_loss.backward()\n",
    "            optimizer.step()\n",
    "        print(f\"Epoch {epoch+1}/{epochs}, Loss: {total_loss.item()}\")"
   ]
  },
  {
   "cell_type": "code",
   "execution_count": 7,
   "metadata": {},
   "outputs": [
    {
     "name": "stdout",
     "output_type": "stream",
     "text": [
      "Epoch 1/5, Loss: 0.3995649814605713\n",
      "Epoch 2/5, Loss: 0.000987229635939002\n",
      "Epoch 3/5, Loss: 0.08845642954111099\n",
      "Epoch 4/5, Loss: 0.3800903260707855\n",
      "Epoch 5/5, Loss: 0.00025174120673909783\n"
     ]
    }
   ],
   "source": [
    "# 初始化模型\n",
    "model = SimpleModel()\n",
    "\n",
    "# 训练模型并应用互信息正则化防御\n",
    "train_with_defense(model, train_loader, defense_lambda=0.1, epochs=5)"
   ]
  },
  {
   "cell_type": "markdown",
   "metadata": {},
   "source": [
    "执行 DLG 攻击并验证防御效果"
   ]
  },
  {
   "cell_type": "code",
   "execution_count": 8,
   "metadata": {},
   "outputs": [
    {
     "data": {
      "image/png": "[encoded data removed]",
      "text/plain": [
       "<Figure size 1000x500 with 2 Axes>"
      ]
     },
     "metadata": {},
     "output_type": "display_data"
    }
   ],
   "source": [
    "def dlg_attack(model, original_grad, target_label, lr=0.1, iterations=1000):\n",
    "    dummy_data = torch.randn(1, 1, 28, 28, requires_grad=True)\n",
    "    dummy_label = torch.tensor([target_label], dtype=torch.long)\n",
    "\n",
    "    optimizer = optim.LBFGS([dummy_data], lr=lr)\n",
    "\n",
    "    for i in range(iterations):\n",
    "        def closure():\n",
    "            optimizer.zero_grad()\n",
    "            dummy_output = model(dummy_data)\n",
    "            dummy_loss = nn.CrossEntropyLoss()(dummy_output, dummy_label)\n",
    "            dummy_grad = torch.autograd.grad(dummy_loss, model.parameters(), create_graph=True)\n",
    "            \n",
    "            grad_diff = sum(((dummy_grad[i] - original_grad[i]) ** 2).sum() for i in range(len(original_grad)))\n",
    "            grad_diff.backward()\n",
    "            return grad_diff\n",
    "\n",
    "        optimizer.step(closure)\n",
    "\n",
    "    return dummy_data\n",
    "\n",
    "# 选择一个样本进行攻击\n",
    "data, target = next(iter(train_loader))\n",
    "\n",
    "# 计算原始梯度\n",
    "output = model(data)\n",
    "loss = nn.CrossEntropyLoss()(output, target)\n",
    "original_grad = torch.autograd.grad(loss, model.parameters())\n",
    "\n",
    "# 执行 DLG 攻击\n",
    "reconstructed_data = dlg_attack(model, original_grad, target.item())\n",
    "\n",
    "# 显示原始数据和重建数据\n",
    "plt.figure(figsize=(10, 5))\n",
    "plt.subplot(1, 2, 1)\n",
    "plt.title(\"Original Data\")\n",
    "plt.imshow(data[0].squeeze(), cmap='gray')\n",
    "\n",
    "plt.subplot(1, 2, 2)\n",
    "plt.title(\"Reconstructed Data\")\n",
    "plt.imshow(reconstructed_data.detach().numpy().squeeze(), cmap='gray')\n",
    "\n",
    "plt.show()"
   ]
  },
  {
   "cell_type": "markdown",
   "metadata": {},
   "source": [
    "可以看出执行防御后的效果较为理想"
   ]
  }
 ],
 "metadata": {
  "kernelspec": {
   "display_name": "zym38",
   "language": "python",
   "name": "python3"
  },
  "language_info": {
   "codemirror_mode": {
    "name": "ipython",
    "version": 3
   },
   "file_extension": ".py",
   "mimetype": "text/x-python",
   "name": "python",
   "nbconvert_exporter": "python",
   "pygments_lexer": "ipython3",
   "version": "3.8.18"
  }
 },
 "nbformat": 4,
 "nbformat_minor": 2
}
