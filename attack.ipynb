{
 "cells": [
  {
   "cell_type": "markdown",
   "metadata": {},
   "source": [
    "### Try to using torchattack"
   ]
  },
  {
   "cell_type": "code",
   "execution_count": 99,
   "metadata": {},
   "outputs": [
    {
     "name": "stdout",
     "output_type": "stream",
     "text": [
      "Finish!\n"
     ]
    }
   ],
   "source": [
    "import torchattacks # type: ignore\n",
    "import argparse\n",
    "import pathlib\n",
    "import time\n",
    "import matplotlib.pyplot as plt # type: ignore\n",
    "import pandas as pd # type: ignore\n",
    "import PIL.Image # type: ignore\n",
    "import torch.nn.functional as F # type: ignore\n",
    "import sys\n",
    "sys.argv = ['run.py']\n",
    "\n",
    "try:\n",
    "    import apex\n",
    "except ImportError:\n",
    "    pass\n",
    "import numpy as np # type: ignore\n",
    "import torch# type: ignore\n",
    "import torch.nn as nn # type: ignore\n",
    "import torch.distributed as dist# type: ignore\n",
    "import torchvision# type: ignore\n",
    "import cv2# type: ignore\n",
    "\n",
    "from fvcore.common.checkpoint import Checkpointer# type: ignore\n",
    "\n",
    "from pytorch_image_classification import (\n",
    "    apply_data_parallel_wrapper,\n",
    "    create_dataloader,\n",
    "    create_loss,\n",
    "    create_model,\n",
    "    create_optimizer,\n",
    "    create_scheduler,\n",
    "    get_default_config,\n",
    "    update_config,\n",
    ")\n",
    "from pytorch_image_classification.config.config_node import ConfigNode\n",
    "from pytorch_image_classification.utils import (\n",
    "    AverageMeter,\n",
    "    DummyWriter,\n",
    "    compute_accuracy,\n",
    "    count_op,\n",
    "    create_logger,\n",
    "    create_tensorboard_writer,\n",
    "    find_config_diff,\n",
    "    get_env_info,\n",
    "    get_rank,\n",
    "    save_config,\n",
    "    set_seed,\n",
    "    setup_cudnn,\n",
    ")\n",
    "from pytorch_image_classification import (\n",
    "    get_default_config,\n",
    "    create_model,\n",
    "    create_transform,\n",
    ")\n",
    "\n",
    "global global_step\n",
    "global_step = 0\n",
    "\n",
    "\n",
    "def load_config():\n",
    "    parser = argparse.ArgumentParser()\n",
    "    parser.add_argument('--config', type=str,default = '/root/ZYM/zym/AI_S/torch_classification/configs/self_dataset/resnet_3.yaml' )\n",
    "    parser.add_argument('--resume', type=str, default='')\n",
    "    parser.add_argument('--local_rank', type=int, default=0)\n",
    "    parser.add_argument('options', default=None, nargs=argparse.REMAINDER)\n",
    "    args = parser.parse_args()\n",
    "\n",
    "    config = get_default_config()\n",
    "    if args.config is not None:\n",
    "        config.merge_from_file(args.config)\n",
    "    config.merge_from_list(args.options)\n",
    "    if not torch.cuda.is_available():\n",
    "        config.device = 'cpu'\n",
    "        config.train.dataloader.pin_memory = False\n",
    "    if args.resume != '':\n",
    "        config_path = pathlib.Path(args.resume) / 'config.yaml'\n",
    "        config.merge_from_file(config_path.as_posix())\n",
    "        config.merge_from_list(['train.resume', True])\n",
    "    config.merge_from_list(['train.dist.local_rank', args.local_rank])\n",
    "    config = update_config(config)\n",
    "    config.freeze()\n",
    "    return config\n",
    "\n",
    "\n",
    "\n",
    "\n",
    "config = load_config()\n",
    "\n",
    "set_seed(config)\n",
    "setup_cudnn(config)\n",
    "\n",
    "epoch_seeds = np.random.randint(np.iinfo(np.int32).max // 2,\n",
    "                                size=config.scheduler.epochs)\n",
    "\n",
    "if config.train.distributed:\n",
    "    dist.init_process_group(backend=config.train.dist.backend,\n",
    "                            init_method=config.train.dist.init_method,\n",
    "                            rank=config.train.dist.node_rank,\n",
    "                            world_size=config.train.dist.world_size)\n",
    "    torch.cuda.set_device(config.train.dist.local_rank)\n",
    "    \n",
    "model = create_model(config)\n",
    "checkpoint = torch.load('/root/ZYM/zym/AI_S/torch_classification/experiments/mnist/resnet/exp05/checkpoint_00160.pth')\n",
    "model.load_state_dict(checkpoint['model'],strict=False)\n",
    "transform = create_transform(config, is_train=True)\n",
    "\n",
    "device = torch.device(\"cpu\")\n",
    "model.to(device)\n",
    "_ = model.eval()\n",
    "\n",
    "#names = [index2label[index] for index in indices]\n",
    "print(\"Finish!\")"
   ]
  },
  {
   "cell_type": "code",
   "execution_count": 104,
   "metadata": {},
   "outputs": [
    {
     "data": {
      "image/png": "[encoded data removed]",
      "text/plain": [
       "<Figure size 640x480 with 1 Axes>"
      ]
     },
     "metadata": {},
     "output_type": "display_data"
    }
   ],
   "source": [
    "image = cv2.imread('./data/MNIST/test/0/5.png')\n",
    "img  = image[:, :, ::-1]\n",
    "\n",
    "data = transform(PIL.Image.fromarray(img))\n",
    "with torch.no_grad():\n",
    "    pred = model(data.unsqueeze(0).to(device))\n",
    "prob = F.softmax(pred, dim=1).cpu()\n",
    "\n",
    "scores, indices = prob.topk(k=3)\n",
    "scores = scores.numpy().ravel()\n",
    "\n",
    "indices = indices.numpy().ravel()\n",
    "plt.imshow(image[:, :, ::-1])\n",
    "plt.show()"
   ]
  },
  {
   "cell_type": "code",
   "execution_count": 101,
   "metadata": {},
   "outputs": [
    {
     "data": {
      "text/html": [
       "<div>\n",
       "<style scoped>\n",
       "    .dataframe tbody tr th:only-of-type {\n",
       "        vertical-align: middle;\n",
       "    }\n",
       "\n",
       "    .dataframe tbody tr th {\n",
       "        vertical-align: top;\n",
       "    }\n",
       "\n",
       "    .dataframe thead th {\n",
       "        text-align: right;\n",
       "    }\n",
       "</style>\n",
       "<table border=\"1\" class=\"dataframe\">\n",
       "  <thead>\n",
       "    <tr style=\"text-align: right;\">\n",
       "      <th></th>\n",
       "      <th>label</th>\n",
       "      <th>score</th>\n",
       "    </tr>\n",
       "  </thead>\n",
       "  <tbody>\n",
       "    <tr>\n",
       "      <th>0</th>\n",
       "      <td>0</td>\n",
       "      <td>0.999985</td>\n",
       "    </tr>\n",
       "    <tr>\n",
       "      <th>1</th>\n",
       "      <td>2</td>\n",
       "      <td>0.000011</td>\n",
       "    </tr>\n",
       "    <tr>\n",
       "      <th>2</th>\n",
       "      <td>1</td>\n",
       "      <td>0.000004</td>\n",
       "    </tr>\n",
       "  </tbody>\n",
       "</table>\n",
       "</div>"
      ],
      "text/plain": [
       "   label     score\n",
       "0      0  0.999985\n",
       "1      2  0.000011\n",
       "2      1  0.000004"
      ]
     },
     "execution_count": 101,
     "metadata": {},
     "output_type": "execute_result"
    }
   ],
   "source": [
    "pd.DataFrame({'label': indices, 'score': scores})"
   ]
  },
  {
   "cell_type": "markdown",
   "metadata": {},
   "source": [
    "### 实现基于模型和参数的标签预测，现在实现攻击"
   ]
  },
  {
   "cell_type": "code",
   "execution_count": 107,
   "metadata": {},
   "outputs": [
    {
     "name": "stderr",
     "output_type": "stream",
     "text": [
      "/root/miniconda3/envs/zym38/lib/python3.8/site-packages/matplotlib/cm.py:478: RuntimeWarning: invalid value encountered in cast\n",
      "  xx = (xx * 255).astype(np.uint8)\n"
     ]
    },
    {
     "data": {
      "image/png": "[encoded data removed]",
      "text/plain": [
       "<Figure size 640x480 with 1 Axes>"
      ]
     },
     "metadata": {},
     "output_type": "display_data"
    }
   ],
   "source": [
    "device = torch.device(\"cpu\")\n",
    "img_batch0 = np.expand_dims(image,axis=0)\n",
    "img_batch = torch.from_numpy(np.transpose(img_batch0,(0,3,1,2))).float().to(device)\n",
    "labels0 = np.array([0])  # 示例标签数据\n",
    "labels = torch.tensor(labels0).long().to(device)\n",
    "atk1 = torchattacks.CW(model=model.to(device),c=1,kappa=0,steps=50,lr=0.01)\n",
    "x = atk1(img_batch.to(device),labels=labels.to(device))\n",
    "adv_image_batch_cpu = x.cpu()*255\n",
    "adv_img = (adv_image_batch_cpu.numpy())[0]\n",
    "plt.imshow(np.transpose(adv_img,(1,2,0)))\n",
    "plt.show()"
   ]
  },
  {
   "cell_type": "code",
   "execution_count": 106,
   "metadata": {},
   "outputs": [
    {
     "name": "stderr",
     "output_type": "stream",
     "text": [
      "/tmp/ipykernel_1690213/4091743404.py:12: RuntimeWarning: invalid value encountered in cast\n",
      "  adv_image_uint8 = (adv_img * 255).astype(np.uint8)\n"
     ]
    },
    {
     "data": {
      "text/html": [
       "<div>\n",
       "<style scoped>\n",
       "    .dataframe tbody tr th:only-of-type {\n",
       "        vertical-align: middle;\n",
       "    }\n",
       "\n",
       "    .dataframe tbody tr th {\n",
       "        vertical-align: top;\n",
       "    }\n",
       "\n",
       "    .dataframe thead th {\n",
       "        text-align: right;\n",
       "    }\n",
       "</style>\n",
       "<table border=\"1\" class=\"dataframe\">\n",
       "  <thead>\n",
       "    <tr style=\"text-align: right;\">\n",
       "      <th></th>\n",
       "      <th>label</th>\n",
       "      <th>score</th>\n",
       "    </tr>\n",
       "  </thead>\n",
       "  <tbody>\n",
       "    <tr>\n",
       "      <th>0</th>\n",
       "      <td>1</td>\n",
       "      <td>0.990209</td>\n",
       "    </tr>\n",
       "    <tr>\n",
       "      <th>1</th>\n",
       "      <td>2</td>\n",
       "      <td>0.008971</td>\n",
       "    </tr>\n",
       "    <tr>\n",
       "      <th>2</th>\n",
       "      <td>0</td>\n",
       "      <td>0.000819</td>\n",
       "    </tr>\n",
       "  </tbody>\n",
       "</table>\n",
       "</div>"
      ],
      "text/plain": [
       "   label     score\n",
       "0      1  0.990209\n",
       "1      2  0.008971\n",
       "2      0  0.000819"
      ]
     },
     "execution_count": 106,
     "metadata": {},
     "output_type": "execute_result"
    }
   ],
   "source": [
    "def get_predict(img,model,transform,device,k):\n",
    "    \n",
    "    data = transform(PIL.Image.fromarray(img))\n",
    "    with torch.no_grad():\n",
    "        pred = model(data.unsqueeze(0).to(device))\n",
    "    prob = F.softmax(pred, dim=1).cpu()\n",
    "\n",
    "    scores, indices = prob.topk(k)\n",
    "    scores = scores.numpy().ravel()\n",
    "    indices = indices.numpy().ravel()\n",
    "    return scores,indices\n",
    "adv_image_uint8 = (adv_img * 255).astype(np.uint8)\n",
    "adv_img_input = adv_image_uint8.transpose(1, 2, 0)\n",
    "s,i = get_predict(adv_img_input,model,transform,device,3)\n",
    "pd.DataFrame({'label': i, 'score': s})"
   ]
  },
  {
   "cell_type": "markdown",
   "metadata": {},
   "source": [
    "## Test self-made CW attack"
   ]
  },
  {
   "cell_type": "code",
   "execution_count": 89,
   "metadata": {},
   "outputs": [],
   "source": [
    "import torch # type: ignore\n",
    "import PIL.Image # type: ignore \n",
    "device = torch.device('cuda')\n",
    "import torch.nn.functional as F # type: ignore\n",
    "import pandas as pd # type: ignore\n",
    "def get_predict(img,model,device,k):\n",
    "    img = torch.tensor(img.astype(np.float32)/255).to(device)\n",
    "    img = img.permute(2,0,1) # convert HWC to CHW\n",
    "    if len(img.shape) == 3:  # 单个图像\n",
    "        img = img.unsqueeze(0)  # 增加 batch 维度 \n",
    "    _ = model.eval()\n",
    "    with torch.no_grad():\n",
    "        result = model(img).squeeze(0)\n",
    "        prob = F.softmax(result, dim=0).cpu()\n",
    "    scores, indices = prob.topk(k)\n",
    "    #print(scores,'\\n',indices)\n",
    "    return indices,prob"
   ]
  },
  {
   "cell_type": "code",
   "execution_count": 91,
   "metadata": {},
   "outputs": [
    {
     "data": {
      "text/plain": [
       "(tensor([0, 2, 1]), tensor([9.8407e-01, 1.6612e-14, 1.5930e-02]))"
      ]
     },
     "execution_count": 91,
     "metadata": {},
     "output_type": "execute_result"
    }
   ],
   "source": [
    "from tools.import_model import trmodel\n",
    "from attack.CW import CWAttack\n",
    "import numpy as np # type: ignore\n",
    "import cv2# type: ignore\n",
    "\n",
    "cfg_path = './configs/self_dataset/resnet_3.yaml'\n",
    "pth_path = './experiments/mnist/resnet/exp05/checkpoint_00160.pth'\n",
    "\n",
    "#model = trmodel(cfg_path,pth_path).get_model()\n",
    "img_raw = cv2.imread('./data/MNIST/test/1/26.png')\n",
    "_ = model.eval()\n",
    "i,p = get_predict(img_raw/255,model,device,k=3)\n",
    "i,p"
   ]
  },
  {
   "cell_type": "code",
   "execution_count": 92,
   "metadata": {},
   "outputs": [
    {
     "name": "stderr",
     "output_type": "stream",
     "text": [
      "/root/ZYM/zym/AI_S/torch_classification/attack/CW.py:23: UserWarning: To copy construct from a tensor, it is recommended to use sourceTensor.clone().detach() or sourceTensor.clone().detach().requires_grad_(True), rather than torch.tensor(sourceTensor).\n",
      "  w = torch.tensor(torch.atanh(2*self.x-1),requires_grad=True).to(device)\n",
      "100%|██████████| 80/80 [00:03<00:00, 22.72it/s]\n"
     ]
    }
   ],
   "source": [
    "img = np.copy(img_raw)\n",
    "image = np.transpose(img,(2,0,1))\n",
    "cw = CWAttack(model, img, c=3, lr=0.1, target=1,max_iteration=80)\n",
    "adv_img = cw.attack()\n",
    "adv_img_np = (adv_img.cpu().detach()).numpy()\n",
    "adv_uint = (adv_img_np*255).astype(np.uint8)\n",
    "#cv2.imwrite(\"./cw_adv.jpg\",adv_uint)\n"
   ]
  },
  {
   "cell_type": "code",
   "execution_count": 93,
   "metadata": {},
   "outputs": [
    {
     "data": {
      "image/png": "[encoded data removed]",
      "text/plain": [
       "<Figure size 640x480 with 2 Axes>"
      ]
     },
     "metadata": {},
     "output_type": "display_data"
    }
   ],
   "source": [
    "import matplotlib.pyplot as plt # type: ignore\n",
    "plt.figure()\n",
    "plt.subplot(1,2,1)\n",
    "plt.imshow(adv_uint)\n",
    "plt.subplot(1,2,2)\n",
    "plt.imshow(img_raw)\n",
    "plt.show()"
   ]
  },
  {
   "cell_type": "code",
   "execution_count": null,
   "metadata": {},
   "outputs": [
    {
     "data": {
      "text/html": [
       "<div>\n",
       "<style scoped>\n",
       "    .dataframe tbody tr th:only-of-type {\n",
       "        vertical-align: middle;\n",
       "    }\n",
       "\n",
       "    .dataframe tbody tr th {\n",
       "        vertical-align: top;\n",
       "    }\n",
       "\n",
       "    .dataframe thead th {\n",
       "        text-align: right;\n",
       "    }\n",
       "</style>\n",
       "<table border=\"1\" class=\"dataframe\">\n",
       "  <thead>\n",
       "    <tr style=\"text-align: right;\">\n",
       "      <th></th>\n",
       "      <th>label</th>\n",
       "      <th>score</th>\n",
       "    </tr>\n",
       "  </thead>\n",
       "  <tbody>\n",
       "    <tr>\n",
       "      <th>0</th>\n",
       "      <td>0</td>\n",
       "      <td>0.596084</td>\n",
       "    </tr>\n",
       "    <tr>\n",
       "      <th>2</th>\n",
       "      <td>1</td>\n",
       "      <td>0.403525</td>\n",
       "    </tr>\n",
       "    <tr>\n",
       "      <th>1</th>\n",
       "      <td>2</td>\n",
       "      <td>0.000391</td>\n",
       "    </tr>\n",
       "  </tbody>\n",
       "</table>\n",
       "</div>"
      ],
      "text/plain": [
       "   label     score\n",
       "0      0  0.596084\n",
       "2      1  0.403525\n",
       "1      2  0.000391"
      ]
     },
     "metadata": {},
     "output_type": "display_data"
    },
    {
     "data": {
      "text/html": [
       "<div>\n",
       "<style scoped>\n",
       "    .dataframe tbody tr th:only-of-type {\n",
       "        vertical-align: middle;\n",
       "    }\n",
       "\n",
       "    .dataframe tbody tr th {\n",
       "        vertical-align: top;\n",
       "    }\n",
       "\n",
       "    .dataframe thead th {\n",
       "        text-align: right;\n",
       "    }\n",
       "</style>\n",
       "<table border=\"1\" class=\"dataframe\">\n",
       "  <thead>\n",
       "    <tr style=\"text-align: right;\">\n",
       "      <th></th>\n",
       "      <th>Raw_label</th>\n",
       "      <th>score</th>\n",
       "    </tr>\n",
       "  </thead>\n",
       "  <tbody>\n",
       "    <tr>\n",
       "      <th>2</th>\n",
       "      <td>1</td>\n",
       "      <td>0.967273</td>\n",
       "    </tr>\n",
       "    <tr>\n",
       "      <th>0</th>\n",
       "      <td>2</td>\n",
       "      <td>0.032626</td>\n",
       "    </tr>\n",
       "    <tr>\n",
       "      <th>1</th>\n",
       "      <td>0</td>\n",
       "      <td>0.000101</td>\n",
       "    </tr>\n",
       "  </tbody>\n",
       "</table>\n",
       "</div>"
      ],
      "text/plain": [
       "   Raw_label     score\n",
       "2          1  0.967273\n",
       "0          2  0.032626\n",
       "1          0  0.000101"
      ]
     },
     "metadata": {},
     "output_type": "display_data"
    }
   ],
   "source": [
    "i,s = get_predict(adv_uint,model,device,3)\n",
    "i_raw,s_raw = get_predict(img_raw,model,device,3)\n",
    "df1 = pd.DataFrame({'label': i, 'score': s,})\n",
    "df2 = pd.DataFrame({'Raw_label': i_raw, 'score': s_raw})\n",
    "df11 = df1.sort_values(by='score', ascending=False)\n",
    "df22 = df2.sort_values(by='score', ascending=False)\n",
    "display(df11)\n",
    "display(df22) #最左侧的为pandas自带的index序列，第二列为模型预测标签"
   ]
  }
 ],
 "metadata": {
  "kernelspec": {
   "display_name": "zym38",
   "language": "python",
   "name": "python3"
  },
  "language_info": {
   "codemirror_mode": {
    "name": "ipython",
    "version": 3
   },
   "file_extension": ".py",
   "mimetype": "text/x-python",
   "name": "python",
   "nbconvert_exporter": "python",
   "pygments_lexer": "ipython3",
   "version": "3.8.18"
  }
 },
 "nbformat": 4,
 "nbformat_minor": 2
}
